{
 "cells": [
  {
   "cell_type": "markdown",
   "metadata": {},
   "source": [
    "# Lie Group for Robotics"
   ]
  },
  {
   "attachments": {},
   "cell_type": "markdown",
   "metadata": {},
   "source": [
    "1. [The $SO(2)$ Lie Group, Planar Rigid Body Rotations](01_SO2.ipynb)\n",
    "2. [$SE(2)$ Lie Group, Planar Rigid Body Rotations and Translations](02_SE2.ipynb)"
   ]
  }
 ],
 "metadata": {
  "kernelspec": {
   "display_name": ".venv-lgfr",
   "language": "python",
   "name": "python3"
  },
  "language_info": {
   "name": "python",
   "version": "3.10.6 (main, Nov 14 2022, 16:10:14) [GCC 11.3.0]"
  },
  "orig_nbformat": 4,
  "vscode": {
   "interpreter": {
    "hash": "4572d97a0673b052ae493d8b3d28147da0c19a76027cb0f7d8e82eb5e3fdd276"
   }
  }
 },
 "nbformat": 4,
 "nbformat_minor": 2
}
