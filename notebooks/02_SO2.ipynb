{
 "cells": [
  {
   "attachments": {},
   "cell_type": "markdown",
   "metadata": {},
   "source": [
    "# The $SO(2)$ Lie Group\n",
    "## Planar Rigid Body Rotations"
   ]
  },
  {
   "cell_type": "code",
   "execution_count": null,
   "metadata": {},
   "outputs": [
    {
     "ename": "",
     "evalue": "",
     "output_type": "error",
     "traceback": [
      "\u001b[1;31mRunning cells with '/bin/python3' requires ipykernel package.\n",
      "\u001b[1;31mRun the following command to install 'ipykernel' into the Python environment. \n",
      "\u001b[1;31mCommand: '/bin/python3 -m pip install ipykernel -U --user --force-reinstall'"
     ]
    }
   ],
   "source": [
    "import sympy\n",
    "import sympy.physics.mechanics as mech\n",
    "mech.init_vprinting()\n",
    "\n",
    "t = sympy.symbols('t')\n",
    "theta = mech.dynamicsymbols('theta')\n",
    "G = sympy.Matrix([\n",
    "    [sympy.cos(theta), -sympy.sin(theta)],\n",
    "    [sympy.sin(theta), sympy.cos(theta)],\n",
    "])\n",
    "G"
   ]
  },
  {
   "attachments": {},
   "cell_type": "markdown",
   "metadata": {},
   "source": [
    "$SO(2)$ can be represented by any matrix of the from:\n",
    "\n",
    "$G(\\theta) = \\begin{bmatrix}\n",
    "\\cos{\\theta} & -\\sin{\\theta} \\\\\n",
    "\\sin{\\theta} & \\cos{\\theta}\n",
    "\\end{bmatrix}$ with the Group operator of matrix multiplication ($\\cdot$).\n",
    "\n",
    "where $\\theta \\in \\mathbb{R}$.\n",
    "\n",
    "To show that $SO(2)$ is a Lie Group, we much show that it is closed, associative, has inverse, and a neutral element and is a differentiable manifold"
   ]
  },
  {
   "attachments": {},
   "cell_type": "markdown",
   "metadata": {},
   "source": [
    "## Closed"
   ]
  },
  {
   "attachments": {},
   "cell_type": "markdown",
   "metadata": {},
   "source": [
    "Since $G(\\theta_1) \\cdot G(\\theta_2) = G(\\theta_1 + \\theta_2)$, $SO(2)$ is closed under matrix multiplication."
   ]
  },
  {
   "cell_type": "code",
   "execution_count": 2,
   "metadata": {},
   "outputs": [
    {
     "data": {
      "text/latex": [
       "$\\displaystyle \\left[\\begin{matrix}- \\sin{\\left(\\theta_{1} \\right)} \\sin{\\left(\\theta_{2} \\right)} + \\cos{\\left(\\theta_{1} \\right)} \\cos{\\left(\\theta_{2} \\right)} & - \\sin{\\left(\\theta_{1} \\right)} \\cos{\\left(\\theta_{2} \\right)} - \\sin{\\left(\\theta_{2} \\right)} \\cos{\\left(\\theta_{1} \\right)}\\\\\\sin{\\left(\\theta_{1} \\right)} \\cos{\\left(\\theta_{2} \\right)} + \\sin{\\left(\\theta_{2} \\right)} \\cos{\\left(\\theta_{1} \\right)} & - \\sin{\\left(\\theta_{1} \\right)} \\sin{\\left(\\theta_{2} \\right)} + \\cos{\\left(\\theta_{1} \\right)} \\cos{\\left(\\theta_{2} \\right)}\\end{matrix}\\right]$"
      ],
      "text/plain": [
       "⎡-sin(θ₁)⋅sin(θ₂) + cos(θ₁)⋅cos(θ₂)  -sin(θ₁)⋅cos(θ₂) - sin(θ₂)⋅cos(θ₁)⎤\n",
       "⎢                                                                      ⎥\n",
       "⎣sin(θ₁)⋅cos(θ₂) + sin(θ₂)⋅cos(θ₁)   -sin(θ₁)⋅sin(θ₂) + cos(θ₁)⋅cos(θ₂)⎦"
      ]
     },
     "execution_count": 2,
     "metadata": {},
     "output_type": "execute_result"
    }
   ],
   "source": [
    "theta_1, theta_2 = mech.dynamicsymbols('theta_1, theta_2')\n",
    "A = G.subs(theta, theta_1)\n",
    "B = G.subs(theta, theta_2)\n",
    "A*B"
   ]
  },
  {
   "cell_type": "code",
   "execution_count": 3,
   "metadata": {},
   "outputs": [
    {
     "data": {
      "text/latex": [
       "$\\displaystyle \\left[\\begin{matrix}\\cos{\\left(\\theta_{1} + \\theta_{2} \\right)} & - \\sin{\\left(\\theta_{1} + \\theta_{2} \\right)}\\\\\\sin{\\left(\\theta_{1} + \\theta_{2} \\right)} & \\cos{\\left(\\theta_{1} + \\theta_{2} \\right)}\\end{matrix}\\right]$"
      ],
      "text/plain": [
       "⎡cos(θ₁ + θ₂)  -sin(θ₁ + θ₂)⎤\n",
       "⎢                           ⎥\n",
       "⎣sin(θ₁ + θ₂)  cos(θ₁ + θ₂) ⎦"
      ]
     },
     "execution_count": 3,
     "metadata": {},
     "output_type": "execute_result"
    }
   ],
   "source": [
    "AB = sympy.simplify(A*B)\n",
    "AB"
   ]
  },
  {
   "attachments": {},
   "cell_type": "markdown",
   "metadata": {},
   "source": [
    "## Associative\n",
    "\n",
    "$SO(2)$ as a Matrix Lie Group, can inheret associativity from matrix multiplication:\n",
    "\n",
    "$(A \\cdot B) \\cdot C = A \\cdot (B \\cdot C)$"
   ]
  },
  {
   "attachments": {},
   "cell_type": "markdown",
   "metadata": {},
   "source": [
    "## Inverse\n",
    "\n",
    "$SO(2)$ as a Matrix Lie Group, can inheret the inverse from matrix multiplication, since any element of $SO(2)$ has a non-zero determinant (1) and is invertible.\n",
    "\n",
    "$\\det{G} = \\cos^2{\\theta} + \\sin^2{\\theta} = 1$\n",
    "\n",
    "Because the columns of $G(\\theta)$ are orthonomal, the inverse is given by the matrix transpose.\n",
    "\n",
    "$G^{-1}(\\theta) = G^T(\\theta)$"
   ]
  },
  {
   "cell_type": "code",
   "execution_count": 4,
   "metadata": {},
   "outputs": [
    {
     "data": {
      "text/latex": [
       "$\\displaystyle \\left( \\left[\\begin{matrix}\\cos{\\left(\\theta \\right)} & \\sin{\\left(\\theta \\right)}\\\\- \\sin{\\left(\\theta \\right)} & \\cos{\\left(\\theta \\right)}\\end{matrix}\\right], \\  \\left[\\begin{matrix}\\cos{\\left(\\theta \\right)} & \\sin{\\left(\\theta \\right)}\\\\- \\sin{\\left(\\theta \\right)} & \\cos{\\left(\\theta \\right)}\\end{matrix}\\right]\\right)$"
      ],
      "text/plain": [
       "⎛⎡cos(θ)   sin(θ)⎤  ⎡cos(θ)   sin(θ)⎤⎞\n",
       "⎜⎢               ⎥, ⎢               ⎥⎟\n",
       "⎝⎣-sin(θ)  cos(θ)⎦  ⎣-sin(θ)  cos(θ)⎦⎠"
      ]
     },
     "execution_count": 4,
     "metadata": {},
     "output_type": "execute_result"
    }
   ],
   "source": [
    "G_inv = G.inv()\n",
    "G_inv.simplify()\n",
    "\n",
    "(G_inv, G.T)"
   ]
  },
  {
   "cell_type": "markdown",
   "metadata": {},
   "source": [
    "## Neutral\n",
    "\n",
    "$SO(2)$ as a Matrix Lie Group, can inheret the neutral element from matrix multiplication, $I$.IFrame\n",
    "\n",
    "$A\\cdot I = A$"
   ]
  },
  {
   "attachments": {},
   "cell_type": "markdown",
   "metadata": {},
   "source": [
    "## Differential Manifold\n",
    "\n",
    "Is is clear that the group $SO(2)$ is continuous as it inherits this from $\\mathbb{R}$. $G(\\theta)$, $\\theta \\in \\mathbb{R}$. We will see in the Lie Algebra that the group is locally similar to 1 dimensional Euclidean space and we can perform calculus."
   ]
  },
  {
   "attachments": {},
   "cell_type": "markdown",
   "metadata": {},
   "source": [
    "# The $so(2)$ Lie Algebra"
   ]
  },
  {
   "attachments": {},
   "cell_type": "markdown",
   "metadata": {},
   "source": [
    "For matrix Lie groups, we can always find an element of the Lie Algebra, $\\Omega$ via:\n",
    "\n",
    "$\\dot{G} = G\\Omega$\n",
    "\n",
    "$\\Omega = G^{-1}\\dot{G}$"
   ]
  },
  {
   "cell_type": "code",
   "execution_count": 7,
   "metadata": {},
   "outputs": [
    {
     "data": {
      "text/latex": [
       "$\\displaystyle \\left[\\begin{matrix}0 & - \\dot{\\theta}\\\\\\dot{\\theta} & 0\\end{matrix}\\right]$"
      ],
      "text/plain": [
       "⎡0  -θ̇⎤\n",
       "⎢     ⎥\n",
       "⎣θ̇  0 ⎦"
      ]
     },
     "execution_count": 7,
     "metadata": {},
     "output_type": "execute_result"
    }
   ],
   "source": [
    "Omega = G.inv()@G.diff(t)  # could also use tranpose instead of inv for SO(2)\n",
    "Omega.simplify()\n",
    "Omega"
   ]
  },
  {
   "attachments": {},
   "cell_type": "markdown",
   "metadata": {},
   "source": [
    "The so2 Lie algebra can be represented by all 2x2 skew symmetric matrices of the form:\n",
    "\n",
    "$\\Omega = \\begin{bmatrix}\n",
    "0 & - \\omega\\\\\n",
    "\\omega & 0\n",
    "\\end{bmatrix}$\n",
    "\n",
    "It is convenient to define a **wedge** operator such that: $\\omega^{\\wedge} = \\begin{bmatrix}\n",
    "0 & - \\omega\\\\\n",
    "\\omega & 0\n",
    "\\end{bmatrix}$\n",
    "\n",
    "It is also convient to define a **vee** operator, the inverse of the wedge operator such that: $\\begin{bmatrix}\n",
    "0 & - \\omega\\\\\n",
    "\\omega & 0\n",
    "\\end{bmatrix}^{\\vee} = \\omega$"
   ]
  },
  {
   "attachments": {},
   "cell_type": "markdown",
   "metadata": {},
   "source": [
    "## The Exponential Map\n",
    "\n",
    "The exponential map is a locally bijective (invertible) map that maps from the Lie Group to the Lie Algebra.\n",
    "\n",
    "It is locally bijective because in order for a map to bijective (invertible) it must be:\n",
    "\n",
    "* **one-to-one/ injective**: For each point in the domain, there must be a unique corresponding point in the range.\n",
    "* **onto / surjective**: For each point in the range, there must be a point in the domain that maps to it.\n",
    "\n",
    "\n",
    "Even for the group $SO(2)$ the map is not one-to-one. The domain $\\Omega(\\theta)$ map to infinetly many points in the range since:\n",
    "\n",
    "$\\exp(\\Omega(\\theta)) =  \\exp(\\Omega(\\theta + 2\\pi k))$, $k \\in \\mathbb{Z}$.\n",
    "\n",
    "However if restrict the domain $\\Omega(\\theta) : \\theta \\in \\{-\\pi, \\pi\\}$ the exponential map is bijective/invertible.\n"
   ]
  },
  {
   "attachments": {},
   "cell_type": "markdown",
   "metadata": {},
   "source": [
    "The associated Lie Group $SO(2)$ can be found by taking the matrix exponential of the Lie algebra element."
   ]
  },
  {
   "cell_type": "code",
   "execution_count": 19,
   "metadata": {},
   "outputs": [
    {
     "data": {
      "text/latex": [
       "$\\displaystyle \\left[\\begin{matrix}\\cos{\\left(\\omega \\right)} & - \\sin{\\left(\\omega \\right)}\\\\\\sin{\\left(\\omega \\right)} & \\cos{\\left(\\omega \\right)}\\end{matrix}\\right]$"
      ],
      "text/plain": [
       "⎡cos(ω)  -sin(ω)⎤\n",
       "⎢               ⎥\n",
       "⎣sin(ω)  cos(ω) ⎦"
      ]
     },
     "execution_count": 19,
     "metadata": {},
     "output_type": "execute_result"
    }
   ],
   "source": [
    "omega = mech.dynamicsymbols('omega')\n",
    "\n",
    "Omega = sympy.Matrix([\n",
    "    [0, -omega],\n",
    "    [omega, 0]\n",
    "])\n",
    "\n",
    "sympy.exp(Omega).simplify()"
   ]
  }
 ],
 "metadata": {
  "kernelspec": {
   "display_name": "Python 3",
   "language": "python",
   "name": "python3"
  },
  "language_info": {
   "codemirror_mode": {
    "name": "ipython",
    "version": 3
   },
   "file_extension": ".py",
   "mimetype": "text/x-python",
   "name": "python",
   "nbconvert_exporter": "python",
   "pygments_lexer": "ipython3",
   "version": "3.10.6 (main, Nov 14 2022, 16:10:14) [GCC 11.3.0]"
  },
  "orig_nbformat": 4,
  "vscode": {
   "interpreter": {
    "hash": "916dbcbb3f70747c44a77c7bcd40155683ae19c65e1c03b4aa3499c5328201f1"
   }
  }
 },
 "nbformat": 4,
 "nbformat_minor": 2
}
