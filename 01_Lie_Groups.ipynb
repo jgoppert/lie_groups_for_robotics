{
 "cells": [
  {
   "attachments": {},
   "cell_type": "markdown",
   "metadata": {},
   "source": [
    "# What is a Lie Group"
   ]
  },
  {
   "attachments": {},
   "cell_type": "markdown",
   "metadata": {},
   "source": [
    "A [Lie group](https://en.wikipedia.org/wiki/Lie_group) is a group that is also a differentiable manifold.\n",
    "\n",
    "A [Group](https://en.wikipedia.org/wiki/Group_(mathematics)) is a set G and an associated operator $\\cdot$ that is:\n",
    "\n",
    "* **C**losed: if $a \\in G$ and $b \\in G$, then $a \\cdot b \\in G$\n",
    "* **A**ssociative: $(a \\cdot b) \\cdot c = a (\\cdot b \\cdot c)$\n",
    "* **I**nverse: $a^{1}\\cdot a = e$\n",
    "* **N**eutral: $a \\cdot e = e$\n",
    "\n",
    "A [differentiable manifold](https://en.wikipedia.org/wiki/Differentiable_manifold) is a topological space resemlbling Euclidean space near each point and locally similar enough to a vector space to apply calculus."
   ]
  },
  {
   "attachments": {},
   "cell_type": "markdown",
   "metadata": {},
   "source": [
    "\n",
    "Originally Lie Groups were called infinitesmal groups by the creator [Sophus Lie](https://en.wikipedia.org/wiki/Sophus_Lie) (pronounced Lee). The c\n",
    "an be thought of as groups of continuous transformations.\n",
    "\n",
    "<img src=\"fig/Portrett_av_Sophus_Lie.jpg\" alt=\"Sophy Lie\" width=\"200\"/>"
   ]
  },
  {
   "attachments": {},
   "cell_type": "markdown",
   "metadata": {},
   "source": [
    "## Applications of Lie Groups\n",
    "\n",
    "### What we will focus on\n",
    "* Estimation\n",
    "    * IEKF : Invariant Extended Kalman Filter\n",
    "    * Simultaneous Localization and Mapping\n",
    "* Control of Rigid Bodies\n",
    "    * Reachable set calculations\n",
    "* Computer Vision\n",
    "    * Rigid body and perspective transforms\n",
    "\n",
    "### Others\n",
    "* Quantum mechanics"
   ]
  },
  {
   "attachments": {},
   "cell_type": "markdown",
   "metadata": {},
   "source": [
    "## Questions about Groups\n",
    "\n",
    "* Is the set of all Integers $\\mathbb{Z}$ with the addition operator $+$ a group?\n",
    "\n",
    "* Is the set of all Integers $\\mathbb{Z}$ with the multiplication operator $*$ a group?\n",
    "\n",
    "* Is the set of all $n\\times n$ matrices a group?\n",
    "\n",
    "\n",
    "## Questions about Lie Groups\n",
    "\n",
    "* Is the set of all Integers $\\mathbb{Z}$ with the addition operator $+$ a Lie group?\n",
    "\n",
    "* Is the set of all Real numbers $\\mathbb{R}$ with the addition operator $+$ a Lie group?"
   ]
  }
 ],
 "metadata": {
  "kernelspec": {
   "display_name": "Python 3",
   "language": "python",
   "name": "python3"
  },
  "language_info": {
   "name": "python",
   "version": "3.10.6 (main, Nov 14 2022, 16:10:14) [GCC 11.3.0]"
  },
  "orig_nbformat": 4,
  "vscode": {
   "interpreter": {
    "hash": "916dbcbb3f70747c44a77c7bcd40155683ae19c65e1c03b4aa3499c5328201f1"
   }
  }
 },
 "nbformat": 4,
 "nbformat_minor": 2
}
