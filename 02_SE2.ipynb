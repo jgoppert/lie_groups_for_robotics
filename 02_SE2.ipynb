{
 "cells": [
  {
   "attachments": {},
   "cell_type": "markdown",
   "metadata": {},
   "source": [
    "# The $SE(2)$ Lie Group\n",
    "\n",
    "## Planar Rigid Body Rotations and Translations"
   ]
  }
 ],
 "metadata": {
  "kernelspec": {
   "display_name": ".venv-lgfr",
   "language": "python",
   "name": "python3"
  },
  "language_info": {
   "codemirror_mode": {
    "name": "ipython",
    "version": 3
   },
   "file_extension": ".py",
   "mimetype": "text/x-python",
   "name": "python",
   "nbconvert_exporter": "python",
   "pygments_lexer": "ipython3",
   "version": "3.10.6 (main, Nov 14 2022, 16:10:14) [GCC 11.3.0]"
  },
  "orig_nbformat": 4,
  "vscode": {
   "interpreter": {
    "hash": "4572d97a0673b052ae493d8b3d28147da0c19a76027cb0f7d8e82eb5e3fdd276"
   }
  }
 },
 "nbformat": 4,
 "nbformat_minor": 2
}
